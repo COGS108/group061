{
 "cells": [
  {
   "cell_type": "code",
   "execution_count": 236,
   "metadata": {},
   "outputs": [
    {
     "name": "stderr",
     "output_type": "stream",
     "text": [
      "[nltk_data] Downloading package punkt to\n",
      "[nltk_data]     /Users/ramitgoolry/nltk_data...\n",
      "[nltk_data]   Package punkt is already up-to-date!\n",
      "[nltk_data] Downloading package averaged_perceptron_tagger to\n",
      "[nltk_data]     /Users/ramitgoolry/nltk_data...\n",
      "[nltk_data]   Package averaged_perceptron_tagger is already up-to-\n",
      "[nltk_data]       date!\n"
     ]
    }
   ],
   "source": [
    "import pandas as pd\n",
    "import numpy as np\n",
    "import matplotlib as mpl\n",
    "import matplotlib.pyplot as plt\n",
    "import seaborn as sns\n",
    "import datetime, nltk, warnings\n",
    "import matplotlib.cm as cm\n",
    "import itertools\n",
    "import nltk\n",
    "nltk.download('punkt')\n",
    "nltk.download('averaged_perceptron_tagger')\n",
    "from pathlib import Path\n",
    "from sklearn.preprocessing import StandardScaler\n",
    "from sklearn.cluster import KMeans\n",
    "from sklearn.metrics import silhouette_samples, silhouette_score\n",
    "from sklearn import preprocessing, model_selection, metrics, feature_selection\n",
    "from sklearn.model_selection import GridSearchCV, learning_curve\n",
    "from sklearn.svm import SVC\n",
    "from sklearn.metrics import confusion_matrix\n",
    "from sklearn import neighbors, linear_model, svm, tree, ensemble\n",
    "from wordcloud import WordCloud, STOPWORDS\n",
    "from sklearn.ensemble import AdaBoostClassifier\n",
    "from sklearn.decomposition import PCA\n",
    "from IPython.display import display, HTML\n",
    "import folium\n",
    "from folium import plugins\n",
    "import re\n",
    "from pygeocoder import Geocoder\n",
    "import json"
   ]
  },
  {
   "cell_type": "markdown",
   "metadata": {},
   "source": [
    "# Reading Data"
   ]
  },
  {
   "cell_type": "code",
   "execution_count": 237,
   "metadata": {},
   "outputs": [],
   "source": [
    "df = pd.read_csv('Datasets/pd_collisions_datasd_v1.csv')"
   ]
  },
  {
   "cell_type": "code",
   "execution_count": 238,
   "metadata": {},
   "outputs": [
    {
     "data": {
      "text/html": [
       "<div>\n",
       "<style scoped>\n",
       "    .dataframe tbody tr th:only-of-type {\n",
       "        vertical-align: middle;\n",
       "    }\n",
       "\n",
       "    .dataframe tbody tr th {\n",
       "        vertical-align: top;\n",
       "    }\n",
       "\n",
       "    .dataframe thead th {\n",
       "        text-align: right;\n",
       "    }\n",
       "</style>\n",
       "<table border=\"1\" class=\"dataframe\">\n",
       "  <thead>\n",
       "    <tr style=\"text-align: right;\">\n",
       "      <th></th>\n",
       "      <th>report_id</th>\n",
       "      <th>date_time</th>\n",
       "      <th>police_beat</th>\n",
       "      <th>address_number_primary</th>\n",
       "      <th>address_pd_primary</th>\n",
       "      <th>address_road_primary</th>\n",
       "      <th>address_sfx_primary</th>\n",
       "      <th>address_pd_intersecting</th>\n",
       "      <th>address_name_intersecting</th>\n",
       "      <th>address_sfx_intersecting</th>\n",
       "      <th>violation_section</th>\n",
       "      <th>violation_type</th>\n",
       "      <th>charge_desc</th>\n",
       "      <th>injured</th>\n",
       "      <th>killed</th>\n",
       "      <th>hit_run_lvl</th>\n",
       "    </tr>\n",
       "  </thead>\n",
       "  <tbody>\n",
       "    <tr>\n",
       "      <th>0</th>\n",
       "      <td>170082</td>\n",
       "      <td>2017-01-01 00:01:00</td>\n",
       "      <td>935</td>\n",
       "      <td>5500</td>\n",
       "      <td></td>\n",
       "      <td>VALERIO</td>\n",
       "      <td>TRAIL</td>\n",
       "      <td></td>\n",
       "      <td></td>\n",
       "      <td></td>\n",
       "      <td>MISC-HAZ</td>\n",
       "      <td>VC</td>\n",
       "      <td>MISCELLANEOUS HAZARDOUS VIOLATIONS OF THE VEHI...</td>\n",
       "      <td>0</td>\n",
       "      <td>0</td>\n",
       "      <td>MISDEMEANOR</td>\n",
       "    </tr>\n",
       "    <tr>\n",
       "      <th>1</th>\n",
       "      <td>170101</td>\n",
       "      <td>2017-01-01 00:01:00</td>\n",
       "      <td>322</td>\n",
       "      <td>6400</td>\n",
       "      <td></td>\n",
       "      <td>CRAWFORD</td>\n",
       "      <td>STREET</td>\n",
       "      <td></td>\n",
       "      <td></td>\n",
       "      <td></td>\n",
       "      <td>MISC-HAZ</td>\n",
       "      <td>VC</td>\n",
       "      <td>MISCELLANEOUS HAZARDOUS VIOLATIONS OF THE VEHI...</td>\n",
       "      <td>0</td>\n",
       "      <td>0</td>\n",
       "      <td>MISDEMEANOR</td>\n",
       "    </tr>\n",
       "    <tr>\n",
       "      <th>2</th>\n",
       "      <td>170166</td>\n",
       "      <td>2017-01-01 00:01:00</td>\n",
       "      <td>124</td>\n",
       "      <td>8300</td>\n",
       "      <td></td>\n",
       "      <td>CAM DEL ORO</td>\n",
       "      <td></td>\n",
       "      <td></td>\n",
       "      <td></td>\n",
       "      <td></td>\n",
       "      <td>MISC-HAZ</td>\n",
       "      <td>VC</td>\n",
       "      <td>MISCELLANEOUS HAZARDOUS VIOLATIONS OF THE VEHI...</td>\n",
       "      <td>0</td>\n",
       "      <td>0</td>\n",
       "      <td>MISDEMEANOR</td>\n",
       "    </tr>\n",
       "    <tr>\n",
       "      <th>3</th>\n",
       "      <td>170218</td>\n",
       "      <td>2017-01-01 00:01:00</td>\n",
       "      <td>325</td>\n",
       "      <td>8100</td>\n",
       "      <td></td>\n",
       "      <td>ROYAL GORGE</td>\n",
       "      <td>DRIVE</td>\n",
       "      <td></td>\n",
       "      <td></td>\n",
       "      <td></td>\n",
       "      <td>22107</td>\n",
       "      <td>VC</td>\n",
       "      <td>TURNING MOVEMENTS AND REQUIRED SIGNALS</td>\n",
       "      <td>0</td>\n",
       "      <td>0</td>\n",
       "      <td>MISDEMEANOR</td>\n",
       "    </tr>\n",
       "    <tr>\n",
       "      <th>4</th>\n",
       "      <td>170097</td>\n",
       "      <td>2017-01-01 01:00:00</td>\n",
       "      <td>521</td>\n",
       "      <td>1000</td>\n",
       "      <td></td>\n",
       "      <td>11TH</td>\n",
       "      <td>AVENUE</td>\n",
       "      <td></td>\n",
       "      <td></td>\n",
       "      <td></td>\n",
       "      <td>22107</td>\n",
       "      <td>VC</td>\n",
       "      <td>TURNING MOVEMENTS AND REQUIRED SIGNALS</td>\n",
       "      <td>0</td>\n",
       "      <td>0</td>\n",
       "      <td>MISDEMEANOR</td>\n",
       "    </tr>\n",
       "  </tbody>\n",
       "</table>\n",
       "</div>"
      ],
      "text/plain": [
       "  report_id            date_time  police_beat  address_number_primary  \\\n",
       "0    170082  2017-01-01 00:01:00          935                    5500   \n",
       "1    170101  2017-01-01 00:01:00          322                    6400   \n",
       "2    170166  2017-01-01 00:01:00          124                    8300   \n",
       "3    170218  2017-01-01 00:01:00          325                    8100   \n",
       "4    170097  2017-01-01 01:00:00          521                    1000   \n",
       "\n",
       "  address_pd_primary address_road_primary address_sfx_primary  \\\n",
       "0                                 VALERIO               TRAIL   \n",
       "1                                CRAWFORD              STREET   \n",
       "2                             CAM DEL ORO                       \n",
       "3                             ROYAL GORGE               DRIVE   \n",
       "4                                    11TH              AVENUE   \n",
       "\n",
       "  address_pd_intersecting address_name_intersecting address_sfx_intersecting  \\\n",
       "0                                                                              \n",
       "1                                                                              \n",
       "2                                                                              \n",
       "3                                                                              \n",
       "4                                                                              \n",
       "\n",
       "  violation_section violation_type  \\\n",
       "0          MISC-HAZ             VC   \n",
       "1          MISC-HAZ             VC   \n",
       "2          MISC-HAZ             VC   \n",
       "3             22107             VC   \n",
       "4             22107             VC   \n",
       "\n",
       "                                         charge_desc  injured  killed  \\\n",
       "0  MISCELLANEOUS HAZARDOUS VIOLATIONS OF THE VEHI...        0       0   \n",
       "1  MISCELLANEOUS HAZARDOUS VIOLATIONS OF THE VEHI...        0       0   \n",
       "2  MISCELLANEOUS HAZARDOUS VIOLATIONS OF THE VEHI...        0       0   \n",
       "3             TURNING MOVEMENTS AND REQUIRED SIGNALS        0       0   \n",
       "4             TURNING MOVEMENTS AND REQUIRED SIGNALS        0       0   \n",
       "\n",
       "   hit_run_lvl  \n",
       "0  MISDEMEANOR  \n",
       "1  MISDEMEANOR  \n",
       "2  MISDEMEANOR  \n",
       "3  MISDEMEANOR  \n",
       "4  MISDEMEANOR  "
      ]
     },
     "execution_count": 238,
     "metadata": {},
     "output_type": "execute_result"
    }
   ],
   "source": [
    "df.head()"
   ]
  },
  {
   "cell_type": "markdown",
   "metadata": {},
   "source": [
    "# Extraction of Locations from Dataset"
   ]
  },
  {
   "cell_type": "code",
   "execution_count": 239,
   "metadata": {},
   "outputs": [],
   "source": [
    "addresses = df.apply(lambda x : ' '.join(\n",
    "    str(i).strip() for i in [x.address_number_primary, x.address_pd_primary, x.address_road_primary, x.address_sfx_primary] \n",
    ") + ', SAN DIEGO', axis = 1)"
   ]
  },
  {
   "cell_type": "code",
   "execution_count": 240,
   "metadata": {},
   "outputs": [
    {
     "data": {
      "text/plain": [
       "0        5500  VALERIO TRAIL, SAN DIEGO\n",
       "1      6400  CRAWFORD STREET, SAN DIEGO\n",
       "2         8300  CAM DEL ORO , SAN DIEGO\n",
       "3    8100  ROYAL GORGE DRIVE, SAN DIEGO\n",
       "4          1000  11TH AVENUE, SAN DIEGO\n",
       "dtype: object"
      ]
     },
     "execution_count": 240,
     "metadata": {},
     "output_type": "execute_result"
    }
   ],
   "source": [
    "addresses.head()"
   ]
  },
  {
   "cell_type": "markdown",
   "metadata": {},
   "source": [
    "## Geocoding"
   ]
  },
  {
   "cell_type": "code",
   "execution_count": 241,
   "metadata": {},
   "outputs": [
    {
     "ename": "AttributeError",
     "evalue": "'str' object has no attribute 'read'",
     "output_type": "error",
     "traceback": [
      "\u001b[0;31m---------------------------------------------------------------------------\u001b[0m",
      "\u001b[0;31mAttributeError\u001b[0m                            Traceback (most recent call last)",
      "\u001b[0;32m<ipython-input-241-5abf667b1149>\u001b[0m in \u001b[0;36m<module>\u001b[0;34m\u001b[0m\n\u001b[0;32m----> 1\u001b[0;31m \u001b[0mAPI_dict\u001b[0m \u001b[0;34m=\u001b[0m \u001b[0mjson\u001b[0m\u001b[0;34m.\u001b[0m\u001b[0mload\u001b[0m\u001b[0;34m(\u001b[0m\u001b[0;34m'API.json'\u001b[0m\u001b[0;34m)\u001b[0m\u001b[0;34m\u001b[0m\u001b[0;34m\u001b[0m\u001b[0m\n\u001b[0m\u001b[1;32m      2\u001b[0m \u001b[0mcoder\u001b[0m \u001b[0;34m=\u001b[0m \u001b[0mGeocoder\u001b[0m\u001b[0;34m(\u001b[0m\u001b[0mAPI_dict\u001b[0m\u001b[0;34m[\u001b[0m\u001b[0;34m'API_KEY'\u001b[0m\u001b[0;34m]\u001b[0m\u001b[0;34m)\u001b[0m\u001b[0;34m\u001b[0m\u001b[0;34m\u001b[0m\u001b[0m\n\u001b[1;32m      3\u001b[0m \u001b[0;34m\u001b[0m\u001b[0m\n\u001b[1;32m      4\u001b[0m \u001b[0mlocations\u001b[0m \u001b[0;34m=\u001b[0m \u001b[0maddresses\u001b[0m\u001b[0;34m[\u001b[0m\u001b[0;34m:\u001b[0m\u001b[0;36m100\u001b[0m\u001b[0;34m]\u001b[0m\u001b[0;34m.\u001b[0m\u001b[0mapply\u001b[0m\u001b[0;34m(\u001b[0m\u001b[0;32mlambda\u001b[0m \u001b[0maddress\u001b[0m \u001b[0;34m:\u001b[0m \u001b[0mcoder\u001b[0m\u001b[0;34m.\u001b[0m\u001b[0mgeocode\u001b[0m\u001b[0;34m(\u001b[0m\u001b[0maddress\u001b[0m\u001b[0;34m)\u001b[0m\u001b[0;34m.\u001b[0m\u001b[0mcoordinates\u001b[0m\u001b[0;34m)\u001b[0m\u001b[0;34m\u001b[0m\u001b[0;34m\u001b[0m\u001b[0m\n",
      "\u001b[0;32m~/anaconda3/lib/python3.6/json/__init__.py\u001b[0m in \u001b[0;36mload\u001b[0;34m(fp, cls, object_hook, parse_float, parse_int, parse_constant, object_pairs_hook, **kw)\u001b[0m\n\u001b[1;32m    294\u001b[0m \u001b[0;34m\u001b[0m\u001b[0m\n\u001b[1;32m    295\u001b[0m     \"\"\"\n\u001b[0;32m--> 296\u001b[0;31m     return loads(fp.read(),\n\u001b[0m\u001b[1;32m    297\u001b[0m         \u001b[0mcls\u001b[0m\u001b[0;34m=\u001b[0m\u001b[0mcls\u001b[0m\u001b[0;34m,\u001b[0m \u001b[0mobject_hook\u001b[0m\u001b[0;34m=\u001b[0m\u001b[0mobject_hook\u001b[0m\u001b[0;34m,\u001b[0m\u001b[0;34m\u001b[0m\u001b[0;34m\u001b[0m\u001b[0m\n\u001b[1;32m    298\u001b[0m         \u001b[0mparse_float\u001b[0m\u001b[0;34m=\u001b[0m\u001b[0mparse_float\u001b[0m\u001b[0;34m,\u001b[0m \u001b[0mparse_int\u001b[0m\u001b[0;34m=\u001b[0m\u001b[0mparse_int\u001b[0m\u001b[0;34m,\u001b[0m\u001b[0;34m\u001b[0m\u001b[0;34m\u001b[0m\u001b[0m\n",
      "\u001b[0;31mAttributeError\u001b[0m: 'str' object has no attribute 'read'"
     ]
    }
   ],
   "source": [
    "API_dict = json.load(op'API.json')\n",
    "coder = Geocoder(API_dict['API_KEY'])\n",
    "\n",
    "locations = addresses[:100].apply(lambda address : coder.geocode(address).coordinates)"
   ]
  },
  {
   "cell_type": "markdown",
   "metadata": {},
   "source": [
    "# Map"
   ]
  },
  {
   "cell_type": "code",
   "execution_count": 232,
   "metadata": {},
   "outputs": [],
   "source": [
    "# Creating map\n",
    "m = folium.Map(center, zoom_start = 11)"
   ]
  },
  {
   "cell_type": "markdown",
   "metadata": {},
   "source": [
    "### Mark each point"
   ]
  },
  {
   "cell_type": "code",
   "execution_count": 233,
   "metadata": {},
   "outputs": [],
   "source": [
    "for location in locations:\n",
    "    folium.CircleMarker([location[0], location[1]],\n",
    "                        radius=15,\n",
    "                        fill_color=\"#3db7e4\", # divvy color\n",
    "                       ).add_to(m)"
   ]
  },
  {
   "cell_type": "markdown",
   "metadata": {},
   "source": [
    "### Creating Heatmap"
   ]
  },
  {
   "cell_type": "code",
   "execution_count": 234,
   "metadata": {},
   "outputs": [
    {
     "data": {
      "text/html": [
       "<div style=\"width:100%;\"><div style=\"position:relative;width:100%;height:0;padding-bottom:60%;\"><iframe src=\"data:text/html;base64,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\" style=\"position:absolute;width:100%;height:100%;left:0;top:0;\"></iframe></div></div>"
      ],
      "text/plain": [
       "<folium.folium.Map at 0x1a26d7e470>"
      ]
     },
     "execution_count": 234,
     "metadata": {},
     "output_type": "execute_result"
    }
   ],
   "source": [
    "points_df = pd.DataFrame({\n",
    "    'latitude' : list(locations.apply(lambda p : p[0])),\n",
    "    'longitude' : list(locations.apply(lambda p : p[1]))\n",
    "})\n",
    "\n",
    "m.add_children(plugins.HeatMap(points_df.values, radius = 20))\n",
    "m"
   ]
  },
  {
   "cell_type": "code",
   "execution_count": null,
   "metadata": {},
   "outputs": [],
   "source": []
  }
 ],
 "metadata": {
  "kernelspec": {
   "display_name": "Python 3",
   "language": "python",
   "name": "python3"
  },
  "language_info": {
   "codemirror_mode": {
    "name": "ipython",
    "version": 3
   },
   "file_extension": ".py",
   "mimetype": "text/x-python",
   "name": "python",
   "nbconvert_exporter": "python",
   "pygments_lexer": "ipython3",
   "version": "3.6.9"
  }
 },
 "nbformat": 4,
 "nbformat_minor": 2
}
